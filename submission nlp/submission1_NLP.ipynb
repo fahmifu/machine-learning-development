{
  "nbformat": 4,
  "nbformat_minor": 0,
  "metadata": {
    "colab": {
      "name": "submission1-NLP.ipynb",
      "provenance": [],
      "collapsed_sections": []
    },
    "kernelspec": {
      "name": "python3",
      "display_name": "Python 3"
    },
    "accelerator": "GPU"
  },
  "cells": [
    {
      "cell_type": "code",
      "metadata": {
        "id": "ZPUsE0y1HsMX",
        "colab_type": "code",
        "colab": {
          "base_uri": "https://localhost:8080/",
          "height": 261
        },
        "outputId": "83a1781b-f672-4a7c-dedf-e84989d233cf"
      },
      "source": [
        "#download dataset\n",
        "!wget --no-check-certificate \\\n",
        "http://fahmifuady.site/wp-content/uploads/2020/09/dataset_sms_v3.zip \\\n",
        "-O dataset_sms_v3.zip\n",
        "\n",
        "# ekstrak file zip\n",
        "import os\n",
        "import zipfile\n",
        "\n",
        "fzip = '/content/dataset_sms_v3.zip'\n",
        "ekstrak = zipfile.ZipFile(fzip, 'r')\n",
        "ekstrak.extractall('/content')\n"
      ],
      "execution_count": 1,
      "outputs": [
        {
          "output_type": "stream",
          "text": [
            "--2020-09-07 08:25:52--  http://fahmifuady.site/wp-content/uploads/2020/09/dataset_sms_v3.zip\n",
            "Resolving fahmifuady.site (fahmifuady.site)... 165.22.55.67\n",
            "Connecting to fahmifuady.site (fahmifuady.site)|165.22.55.67|:80... connected.\n",
            "HTTP request sent, awaiting response... 301 Moved Permanently\n",
            "Location: https://fahmifuady.site/wp-content/uploads/2020/09/dataset_sms_v3.zip [following]\n",
            "--2020-09-07 08:25:54--  https://fahmifuady.site/wp-content/uploads/2020/09/dataset_sms_v3.zip\n",
            "Connecting to fahmifuady.site (fahmifuady.site)|165.22.55.67|:443... connected.\n",
            "HTTP request sent, awaiting response... 200 OK\n",
            "Length: 106233 (104K) [application/zip]\n",
            "Saving to: ‘dataset_sms_v3.zip’\n",
            "\n",
            "dataset_sms_v3.zip  100%[===================>] 103.74K   167KB/s    in 0.6s    \n",
            "\n",
            "2020-09-07 08:25:56 (167 KB/s) - ‘dataset_sms_v3.zip’ saved [106233/106233]\n",
            "\n"
          ],
          "name": "stdout"
        }
      ]
    },
    {
      "cell_type": "code",
      "metadata": {
        "id": "Nun4KGwdNOWk",
        "colab_type": "code",
        "colab": {
          "base_uri": "https://localhost:8080/",
          "height": 163
        },
        "outputId": "49fce7ef-22f5-404a-e66e-726830ceacf4"
      },
      "source": [
        "import pandas as pd\n",
        "df = pd.read_csv('dataset_sms_v3.zip')\n",
        "df.info()"
      ],
      "execution_count": 2,
      "outputs": [
        {
          "output_type": "stream",
          "text": [
            "<class 'pandas.core.frame.DataFrame'>\n",
            "RangeIndex: 2286 entries, 0 to 2285\n",
            "Data columns (total 2 columns):\n",
            " #   Column  Non-Null Count  Dtype \n",
            "---  ------  --------------  ----- \n",
            " 0   Teks    2286 non-null   object\n",
            " 1   label   2286 non-null   int64 \n",
            "dtypes: int64(1), object(1)\n",
            "memory usage: 35.8+ KB\n"
          ],
          "name": "stdout"
        }
      ]
    },
    {
      "cell_type": "code",
      "metadata": {
        "id": "rWgQY9WEhywj",
        "colab_type": "code",
        "colab": {
          "base_uri": "https://localhost:8080/",
          "height": 245
        },
        "outputId": "324f23f8-7172-4084-e146-fd84a6ad2793"
      },
      "source": [
        "df.head"
      ],
      "execution_count": 3,
      "outputs": [
        {
          "output_type": "execute_result",
          "data": {
            "text/plain": [
              "<bound method NDFrame.head of                                                    Teks  label\n",
              "0     [PROMO] Beli paket Flash mulai 1GB di MY TELKO...      2\n",
              "1     2.5 GB/30 hari hanya Rp 35 Ribu Spesial buat A...      2\n",
              "2     2016-07-08 11:47:11.Plg Yth, sisa kuota Flash ...      2\n",
              "3     2016-08-07 11:29:47.Plg Yth, sisa kuota Flash ...      2\n",
              "4     4.5GB/30 hari hanya Rp 55 Ribu Spesial buat an...      2\n",
              "...                                                 ...    ...\n",
              "2281     Yooo sama2, oke nanti aku umumin di grup kelas      0\n",
              "2282  😁 sebelumnya ga ad nulis kerudung. Kirain warn...      0\n",
              "2283                               Mba mau kirim 300 ya      0\n",
              "2284  nama1  beaok bwrangkat pagi...mau cas atay tra...      0\n",
              "2285                         No bri atas nama kamu mana      0\n",
              "\n",
              "[2286 rows x 2 columns]>"
            ]
          },
          "metadata": {
            "tags": []
          },
          "execution_count": 3
        }
      ]
    },
    {
      "cell_type": "code",
      "metadata": {
        "id": "5w5aKNzfNtta",
        "colab_type": "code",
        "colab": {}
      },
      "source": [
        "# melakukan one-hot-encoding dan membuat dataset baru\n",
        "category = pd.get_dummies(df.label)\n",
        "df_baru = pd.concat([df, category], axis=1)\n",
        "df_baru = df_baru.drop(columns='label')\n",
        "df_baru\n",
        "\n",
        "#Penjelasan Label \n",
        "#0: sms normal (1138)\n",
        "#1: sms spam (670)\n",
        "#2: promo (478)\n",
        "#total = 1138 + 670 + 478 = 2286"
      ],
      "execution_count": null,
      "outputs": []
    },
    {
      "cell_type": "code",
      "metadata": {
        "id": "kumHumBCT5NL",
        "colab_type": "code",
        "colab": {
          "base_uri": "https://localhost:8080/",
          "height": 33
        },
        "outputId": "296c9fa5-4516-49d2-ef32-8dab4df7132a"
      },
      "source": [
        "df_baru.columns"
      ],
      "execution_count": 5,
      "outputs": [
        {
          "output_type": "execute_result",
          "data": {
            "text/plain": [
              "Index(['Teks', 0, 1, 2], dtype='object')"
            ]
          },
          "metadata": {
            "tags": []
          },
          "execution_count": 5
        }
      ]
    },
    {
      "cell_type": "code",
      "metadata": {
        "id": "dufQuPIyPPdk",
        "colab_type": "code",
        "colab": {}
      },
      "source": [
        "# ubah dari dataframe jadi numpy array\n",
        "isisms = df_baru['Teks'].values\n",
        "label = df_baru[[0, 1, 2]].values\n",
        "\n",
        "#train test split\n",
        "from sklearn.model_selection import train_test_split\n",
        "sms_train, sms_test, label_train, label_test = train_test_split(isisms, label, test_size=0.2)\n",
        "\n",
        "#fungsi tokenizer\n",
        "from tensorflow.keras.preprocessing.text import Tokenizer\n",
        "from tensorflow.keras.preprocessing.sequence import pad_sequences\n",
        "\n",
        "tokenizer = Tokenizer(num_words=5000, oov_token='x')\n",
        "tokenizer.fit_on_texts(sms_train) \n",
        "tokenizer.fit_on_texts(sms_test)\n",
        "\n",
        "seq_train = tokenizer.texts_to_sequences(sms_train)\n",
        "seq_test  = tokenizer.texts_to_sequences(sms_test)\n",
        "\n",
        "pad_train = pad_sequences(seq_train)\n",
        "pad_test  = pad_sequences(seq_test)"
      ],
      "execution_count": 6,
      "outputs": []
    },
    {
      "cell_type": "code",
      "metadata": {
        "id": "t4W_DNuUR7aX",
        "colab_type": "code",
        "colab": {}
      },
      "source": [
        "import tensorflow as tf\n",
        "model = tf.keras.Sequential([\n",
        "    tf.keras.layers.Embedding(input_dim=6000, output_dim=16),\n",
        "    tf.keras.layers.LSTM(64),\n",
        "    tf.keras.layers.Dense(128, activation='relu'),\n",
        "    tf.keras.layers.Dense(64, activation='relu'),\n",
        "    tf.keras.layers.Dense(3, activation='softmax')\n",
        "])\n",
        "model.compile(loss='categorical_crossentropy',optimizer='adam',metrics=['accuracy'])"
      ],
      "execution_count": 7,
      "outputs": []
    },
    {
      "cell_type": "code",
      "metadata": {
        "id": "CBxWN8ahWgIW",
        "colab_type": "code",
        "colab": {
          "base_uri": "https://localhost:8080/",
          "height": 310
        },
        "outputId": "bc9edec8-0963-4865-be55-9f0ea9e1d022"
      },
      "source": [
        "model.summary()"
      ],
      "execution_count": 9,
      "outputs": [
        {
          "output_type": "stream",
          "text": [
            "Model: \"sequential\"\n",
            "_________________________________________________________________\n",
            "Layer (type)                 Output Shape              Param #   \n",
            "=================================================================\n",
            "embedding (Embedding)        (None, None, 16)          96000     \n",
            "_________________________________________________________________\n",
            "lstm (LSTM)                  (None, 64)                20736     \n",
            "_________________________________________________________________\n",
            "dense (Dense)                (None, 128)               8320      \n",
            "_________________________________________________________________\n",
            "dense_1 (Dense)              (None, 64)                8256      \n",
            "_________________________________________________________________\n",
            "dense_2 (Dense)              (None, 3)                 195       \n",
            "=================================================================\n",
            "Total params: 133,507\n",
            "Trainable params: 133,507\n",
            "Non-trainable params: 0\n",
            "_________________________________________________________________\n"
          ],
          "name": "stdout"
        }
      ]
    },
    {
      "cell_type": "code",
      "metadata": {
        "id": "7Y90XoCdSAzw",
        "colab_type": "code",
        "colab": {
          "base_uri": "https://localhost:8080/",
          "height": 147
        },
        "outputId": "03d85dfd-48f8-4ef2-d2b9-59f992f3653f"
      },
      "source": [
        "class myCallback(tf.keras.callbacks.Callback):\n",
        "  def on_epoch_end(self, epoch, logs={}):\n",
        "    if(logs.get('accuracy')>0.90):\n",
        "      print(\"\\nAkurasi telah mencapai >90%!\")\n",
        "      self.model.stop_training = True\n",
        "callbacks = myCallback()\n",
        "\n",
        "\n",
        "num_epoch = 30\n",
        "history = model.fit(pad_train, label_train, epochs=num_epoch,\n",
        "                    validation_data=(pad_test, label_test), verbose=2, callbacks=[callbacks])"
      ],
      "execution_count": 10,
      "outputs": [
        {
          "output_type": "stream",
          "text": [
            "Epoch 1/30\n",
            "58/58 - 1s - loss: 0.8752 - accuracy: 0.5875 - val_loss: 0.6364 - val_accuracy: 0.7009\n",
            "Epoch 2/30\n",
            "58/58 - 0s - loss: 0.3759 - accuracy: 0.8156 - val_loss: 0.2113 - val_accuracy: 0.9410\n",
            "Epoch 3/30\n",
            "\n",
            "Akurasi telah mencapai >90%!\n",
            "58/58 - 0s - loss: 0.0772 - accuracy: 0.9787 - val_loss: 0.0994 - val_accuracy: 0.9629\n"
          ],
          "name": "stdout"
        }
      ]
    },
    {
      "cell_type": "code",
      "metadata": {
        "id": "L2K6TM6teRIn",
        "colab_type": "code",
        "colab": {
          "base_uri": "https://localhost:8080/",
          "height": 295
        },
        "outputId": "3fd29316-16a8-42b6-8f98-c39f3ec2cb3b"
      },
      "source": [
        "# liat grafik\n",
        "import matplotlib.pyplot as plt\n",
        "plt.plot(history.history['accuracy'], label='Training Accuracy')\n",
        "plt.plot(history.history['val_accuracy'], label='Validasion Accuracy')\n",
        "plt.title('Model accuracy')\n",
        "plt.ylabel('accuracy')\n",
        "plt.xlabel('Epoch')\n",
        "plt.legend(loc='lower right')\n",
        "plt.show()"
      ],
      "execution_count": 13,
      "outputs": [
        {
          "output_type": "display_data",
          "data": {
            "image/png": "[encoded data removed]",
            "text/plain": [
              "<Figure size 432x288 with 1 Axes>"
            ]
          },
          "metadata": {
            "tags": [],
            "needs_background": "light"
          }
        }
      ]
    }
  ]
}