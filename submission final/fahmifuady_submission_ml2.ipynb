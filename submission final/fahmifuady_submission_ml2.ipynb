{
  "nbformat": 4,
  "nbformat_minor": 0,
  "metadata": {
    "colab": {
      "name": "fahmifuady-submission-ml2.ipynb",
      "provenance": []
    },
    "kernelspec": {
      "name": "python3",
      "display_name": "Python 3"
    },
    "accelerator": "GPU"
  },
  "cells": [
    {
      "cell_type": "code",
      "metadata": {
        "id": "sYV6goMjYzBE",
        "colab_type": "code",
        "colab": {
          "resources": {
            "http://localhost:8080/nbextensions/google.colab/files.js": {
              "data": "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",
              "ok": true,
              "headers": [
                [
                  "content-type",
                  "application/javascript"
                ]
              ],
              "status": 200,
              "status_text": ""
            }
          },
          "base_uri": "https://localhost:8080/",
          "height": 534
        },
        "outputId": "679949a7-8f10-4d4d-a0dc-09109588bb72"
      },
      "source": [
        "# kaggle setting / upload API Token \n",
        "!pip install -q kaggle\n",
        "from google.colab import files\n",
        "files.upload()\n",
        "!mkdir ~/.kaggle\n",
        "!cp kaggle.json ~/.kaggle/\n",
        "!chmod 600 ~/.kaggle/kaggle.json\n",
        "! kaggle datasets list\n",
        "\n",
        "\n",
        "# download dataset dari https://www.kaggle.com/sshikamaru/fruit-recognition\n",
        "!kaggle datasets download -d sshikamaru/fruit-recognition"
      ],
      "execution_count": 1,
      "outputs": [
        {
          "output_type": "display_data",
          "data": {
            "text/html": [
              "\n",
              "     <input type=\"file\" id=\"files-7e95139c-99b2-4e65-8ca2-1119a71eef41\" name=\"files[]\" multiple disabled\n",
              "        style=\"border:none\" />\n",
              "     <output id=\"result-7e95139c-99b2-4e65-8ca2-1119a71eef41\">\n",
              "      Upload widget is only available when the cell has been executed in the\n",
              "      current browser session. Please rerun this cell to enable.\n",
              "      </output>\n",
              "      <script src=\"/nbextensions/google.colab/files.js\"></script> "
            ],
            "text/plain": [
              "<IPython.core.display.HTML object>"
            ]
          },
          "metadata": {
            "tags": []
          }
        },
        {
          "output_type": "stream",
          "text": [
            "Saving kaggle.json to kaggle.json\n",
            "Warning: Looks like you're using an outdated API Version, please consider updating (server 1.5.6 / client 1.5.4)\n",
            "ref                                                    title                                              size  lastUpdated          downloadCount  \n",
            "-----------------------------------------------------  ------------------------------------------------  -----  -------------------  -------------  \n",
            "shivan118/healthcare-analytics                         Healthcare Analytics                                2MB  2020-09-13 17:40:05           1423  \n",
            "datatattle/covid-19-nlp-text-classification            Coronavirus tweets NLP - Text Classification        4MB  2020-09-08 11:40:11            841  \n",
            "anmolkumar/health-insurance-cross-sell-prediction      Health Insurance Cross Sell Prediction 🏠 🏥          6MB  2020-09-11 18:39:31           1946  \n",
            "Cornell-University/arxiv                               arXiv Dataset                                     888MB  2020-09-22 15:33:49           3016  \n",
            "nipunarora8/age-gender-and-ethnicity-face-data-csv     AGE, GENDER AND ETHNICITY (FACE DATA) CSV          63MB  2020-09-02 13:46:38            704  \n",
            "yoannboyere/co2-ghg-emissionsdata                      CO2_GHG_emissions-data                            147KB  2020-09-14 09:59:25            644  \n",
            "ramjidoolla/ipl-data-set                               IPL _Data_Set                                       1MB  2020-09-14 10:57:42           1220  \n",
            "anikannal/solar-power-generation-data                  Solar Power Generation Data                         2MB  2020-08-18 15:52:03           4179  \n",
            "nehaprabhavalkar/av-healthcare-analytics-ii            AV : Healthcare Analytics II                        7MB  2020-08-29 03:40:10           2017  \n",
            "imoore/60k-stack-overflow-questions-with-quality-rate  60k Stack Overflow Questions with Quality Rating   21MB  2020-09-19 20:53:26           1225  \n",
            "tunguz/us-elections-dataset                            US Elections Dataset                               16MB  2020-09-22 20:27:55           2591  \n",
            "jmmvutu/summer-products-and-sales-in-ecommerce-wish    Sales of summer clothes in E-commerce Wish        376KB  2020-08-23 15:16:46           6444  \n",
            "ruchi798/bookcrossing-dataset                          Book-Crossing: User review ratings                 25MB  2020-08-11 10:40:25           1154  \n",
            "google/tinyquickdraw                                   QuickDraw Sketches                                 11GB  2018-04-18 19:38:04           2317  \n",
            "agirlcoding/all-space-missions-from-1957               All Space Missions from 1957                      101KB  2020-08-13 16:18:58           3404  \n",
            "ihelon/lego-minifigures-classification                 LEGO Minifigures                                   19MB  2020-09-22 07:33:22           1178  \n",
            "datasnaek/youtube-new                                  Trending YouTube Video Statistics                 201MB  2019-06-03 00:56:47         105545  \n",
            "zynicide/wine-reviews                                  Wine Reviews                                       51MB  2017-11-27 17:08:04         112960  \n",
            "residentmario/ramen-ratings                            Ramen Ratings                                      40KB  2018-01-11 16:04:39          13757  \n",
            "datasnaek/chess                                        Chess Game Dataset (Lichess)                        3MB  2017-09-04 03:09:09           9036  \n",
            "Downloading fruit-recognition.zip to /content\n",
            " 89% 91.0M/102M [00:00<00:00, 75.9MB/s]\n",
            "100% 102M/102M [00:01<00:00, 105MB/s]  \n"
          ],
          "name": "stdout"
        }
      ]
    },
    {
      "cell_type": "code",
      "metadata": {
        "id": "d3QGXqnTaZht",
        "colab_type": "code",
        "colab": {}
      },
      "source": [
        "# ekstrak file zip\n",
        "import os\n",
        "import zipfile\n",
        "fz = '/content/fruit-recognition.zip'\n",
        "ekstrak = zipfile.ZipFile(fz, 'r')\n",
        "ekstrak.extractall('/content')\n",
        "\n",
        "!rm -rf /content/test/\n",
        "path = '/content/train/train'"
      ],
      "execution_count": 2,
      "outputs": []
    },
    {
      "cell_type": "code",
      "metadata": {
        "id": "vVyij_5uo4wV",
        "colab_type": "code",
        "colab": {
          "base_uri": "https://localhost:8080/",
          "height": 105
        },
        "outputId": "bbb37a4f-d56a-40b5-ed03-9d58c9bb7860"
      },
      "source": [
        "!pip install split-folders\n"
      ],
      "execution_count": 3,
      "outputs": [
        {
          "output_type": "stream",
          "text": [
            "Collecting split-folders\n",
            "  Downloading https://files.pythonhosted.org/packages/d1/4b/7b282b0f9319189d71e803220748929b37d019b67b1782d14c59cb1bd940/split_folders-0.4.2-py3-none-any.whl\n",
            "Installing collected packages: split-folders\n",
            "Successfully installed split-folders-0.4.2\n"
          ],
          "name": "stdout"
        }
      ]
    },
    {
      "cell_type": "code",
      "metadata": {
        "id": "pQ_moMSwpeM4",
        "colab_type": "code",
        "colab": {
          "base_uri": "https://localhost:8080/",
          "height": 34
        },
        "outputId": "e38110ad-014d-495c-b6d4-2536a9b3c160"
      },
      "source": [
        "# menggunakan split_folders untuk memisahkan train sama validasi\n",
        "import splitfolders\n",
        "splitfolders.ratio(path,\n",
        "                   output='/content/dataset',\n",
        "                   seed=13,\n",
        "                   ratio=(.8, .2))"
      ],
      "execution_count": 4,
      "outputs": [
        {
          "output_type": "stream",
          "text": [
            "Copying files: 16854 files [00:02, 7619.09 files/s]\n"
          ],
          "name": "stderr"
        }
      ]
    },
    {
      "cell_type": "code",
      "metadata": {
        "id": "8hFNxYlllvkV",
        "colab_type": "code",
        "colab": {}
      },
      "source": [
        "# mendefinisikan path dataset\n",
        "main_dir = '/content/dataset'\n",
        "tr = os.path.join(main_dir, 'train')\n",
        "va = os.path.join(main_dir, 'val')\n",
        "\n",
        "# join path nya train\n",
        "applebraeburn_tr = os.path.join(tr, 'Apple Braeburn')\n",
        "applegrannysmith_tr = os.path.join(tr, 'Apple Granny Smith')\n",
        "apricot_tr = os.path.join(tr, 'Apricot')\n",
        "avocado_tr = os.path.join(tr, 'Avocado')\n",
        "banana_tr = os.path.join(tr, 'Banana')\n",
        "blueberry_tr = os.path.join(tr, 'Blueberry')\n",
        "cactusfruit_tr = os.path.join(tr, 'Cactus fruit')\n",
        "cantaloupe_tr = os.path.join(tr, 'Cantaloupe')\n",
        "cherry_tr = os.path.join(tr, 'Cherry')\n",
        "celementine_tr = os.path.join(tr, 'Clementine')\n",
        "corn_tr = os.path.join(tr, 'Corn')\n",
        "cucumberripe_tr = os.path.join(tr, 'Cucumber Ripe')\n",
        "grapeblue_tr = os.path.join(tr, 'Grape Blue')\n",
        "kiwi_tr = os.path.join(tr, 'Kiwi')\n",
        "lemon_tr = os.path.join(tr, 'Lemon')\n",
        "limes_tr = os.path.join(tr, 'Limes')\n",
        "manggo_tr = os.path.join(tr, 'Manggo')\n",
        "onionwhite_tr = os.path.join(tr, 'Onion White')\n",
        "orange_tr = os.path.join(tr, 'Orange')\n",
        "papaya_tr = os.path.join(tr, 'Papaya')\n",
        "passionfruit_tr = os.path.join(tr, 'Passion Fruit')\n",
        "peach_tr = os.path.join(tr, 'Peach')\n",
        "pear_tr = os.path.join(tr, 'Pear')\n",
        "peppergreen_tr = os.path.join(tr, 'Pepper Green')\n",
        "pepperred_tr = os.path.join(tr, 'Pepper Red')\n",
        "pineapple_tr = os.path.join(tr, 'Pineapple')\n",
        "plum_tr = os.path.join(tr, 'Plum')\n",
        "pomegranate_tr = os.path.join(tr, 'Pomegranate')\n",
        "potato_tr = os.path.join(tr, 'Potato Red')\n",
        "raspberry_tr = os.path.join(tr, 'Raspberry')\n",
        "strawberry_tr = os.path.join(tr, 'Strawberry')\n",
        "tomato_tr = os.path.join(tr, 'Tomato')\n",
        "watermelon_tr = os.path.join(tr, 'Watermelon')\n",
        "\n",
        "# join path nya val\n",
        "applebraeburn_va = os.path.join(va, 'Apple Braeburn')\n",
        "applegrannysmith_va = os.path.join(va, 'Apple Granny Smith')\n",
        "apricot_va = os.path.join(va, 'Apricot')\n",
        "avocado_va = os.path.join(va, 'Avocado')\n",
        "banana_va = os.path.join(va, 'Banana')\n",
        "blueberry_va = os.path.join(va, 'Blueberry')\n",
        "cactusfruit_va = os.path.join(va, 'Cactus fruit')\n",
        "cantaloupe_va = os.path.join(va, 'Cantaloupe')\n",
        "cherry_va = os.path.join(va, 'Cherry')\n",
        "celementine_va = os.path.join(va, 'Clementine')\n",
        "corn_va = os.path.join(va, 'Corn')\n",
        "cucumberripe_va = os.path.join(va, 'Cucumber Ripe')\n",
        "grapeblue_va = os.path.join(va, 'Grape Blue')\n",
        "kiwi_va = os.path.join(va, 'Kiwi')\n",
        "lemon_va = os.path.join(va, 'Lemon')\n",
        "limes_va = os.path.join(va, 'Limes')\n",
        "manggo_va = os.path.join(va, 'Manggo')\n",
        "onionwhite_va = os.path.join(va, 'Onion White')\n",
        "orange_va = os.path.join(va, 'Orange')\n",
        "papaya_va = os.path.join(va, 'Papaya')\n",
        "passionfruit_va = os.path.join(va, 'Passion Fruit')\n",
        "peach_va = os.path.join(va, 'Peach')\n",
        "pear_va = os.path.join(va, 'Pear')\n",
        "peppergreen_va = os.path.join(va, 'Pepper Green')\n",
        "pepperred_va = os.path.join(va, 'Pepper Red')\n",
        "pineapple_va = os.path.join(va, 'Pineapple')\n",
        "plum_va = os.path.join(va, 'Plum')\n",
        "pomegranate_va = os.path.join(va, 'Pomegranate')\n",
        "potato_va = os.path.join(va, 'Potato Red')\n",
        "raspberry_va = os.path.join(va, 'Raspberry')\n",
        "strawberry_va = os.path.join(va, 'Strawberry')\n",
        "tomato_va = os.path.join(va, 'Tomato')\n",
        "watermelon_va = os.path.join(va, 'Watermelon')"
      ],
      "execution_count": 5,
      "outputs": []
    },
    {
      "cell_type": "code",
      "metadata": {
        "id": "2mdn-fXVEB17",
        "colab_type": "code",
        "colab": {
          "base_uri": "https://localhost:8080/",
          "height": 51
        },
        "outputId": "ec8bfa02-692c-44bf-b219-0ef7939fc067"
      },
      "source": [
        "# import library\n",
        "import tensorflow as tf\n",
        "from tensorflow.keras.optimizers import RMSprop\n",
        "from tensorflow.keras.preprocessing.image import ImageDataGenerator\n",
        "\n",
        "tr_idg = ImageDataGenerator(\n",
        "    rescale=1./255,\n",
        "    rotation_range=20,\n",
        "    zoom_range=0.2,\n",
        "    horizontal_flip=True,\n",
        "    fill_mode='nearest',\n",
        "    shear_range=0.2\n",
        "    )\n",
        "va_igd = ImageDataGenerator(\n",
        "    rescale=1./255,\n",
        "    rotation_range=20,\n",
        "    fill_mode='nearest',\n",
        "    shear_range=0.2,\n",
        "    zoom_range=0.2,\n",
        "    horizontal_flip=True\n",
        "    )\n",
        "\n",
        "tr_generator = tr_idg.flow_from_directory(\n",
        "    tr,\n",
        "    target_size=(150, 150),\n",
        "    batch_size=4,\n",
        "    class_mode='categorical',\n",
        "    shuffle=True\n",
        ")\n",
        "\n",
        "va_generator = va_igd.flow_from_directory(\n",
        "    va,\n",
        "    target_size=(150, 150),\n",
        "    batch_size=4,\n",
        "    class_mode='categorical',\n",
        "    shuffle=True\n",
        ")"
      ],
      "execution_count": 6,
      "outputs": [
        {
          "output_type": "stream",
          "text": [
            "Found 13471 images belonging to 33 classes.\n",
            "Found 3383 images belonging to 33 classes.\n"
          ],
          "name": "stdout"
        }
      ]
    },
    {
      "cell_type": "code",
      "metadata": {
        "id": "4i-jAc4zExcF",
        "colab_type": "code",
        "colab": {
          "base_uri": "https://localhost:8080/",
          "height": 595
        },
        "outputId": "3b61eac5-a36e-4847-b26b-0ca74c014848"
      },
      "source": [
        "model = tf.keras.models.Sequential([\n",
        "    tf.keras.layers.Conv2D(32, (3,3), activation='relu', input_shape=(150, 150, 3)),\n",
        "    tf.keras.layers.MaxPooling2D(),\n",
        "    tf.keras.layers.Dropout(0.2), ### added\n",
        "    tf.keras.layers.Conv2D(64, (3,3), activation='relu'),\n",
        "    tf.keras.layers.MaxPooling2D(),\n",
        "    tf.keras.layers.Conv2D(128, (3,3), activation='relu'),\n",
        "    tf.keras.layers.MaxPooling2D(),\n",
        "    tf.keras.layers.Conv2D(256, (3,3), activation='relu'),\n",
        "    tf.keras.layers.MaxPooling2D(),\n",
        "    tf.keras.layers.Dropout(0.2),### added\n",
        "    tf.keras.layers.Flatten(),\n",
        "    tf.keras.layers.Dense(512, activation='relu'),\n",
        "    tf.keras.layers.Dense(33, activation='softmax')\n",
        "])\n",
        "\n",
        "model.compile(loss='categorical_crossentropy',\n",
        "              optimizer=tf.optimizers.Adam(),\n",
        "              metrics=['accuracy'])\n",
        "\n",
        "model.summary()"
      ],
      "execution_count": 7,
      "outputs": [
        {
          "output_type": "stream",
          "text": [
            "Model: \"sequential\"\n",
            "_________________________________________________________________\n",
            "Layer (type)                 Output Shape              Param #   \n",
            "=================================================================\n",
            "conv2d (Conv2D)              (None, 148, 148, 32)      896       \n",
            "_________________________________________________________________\n",
            "max_pooling2d (MaxPooling2D) (None, 74, 74, 32)        0         \n",
            "_________________________________________________________________\n",
            "dropout (Dropout)            (None, 74, 74, 32)        0         \n",
            "_________________________________________________________________\n",
            "conv2d_1 (Conv2D)            (None, 72, 72, 64)        18496     \n",
            "_________________________________________________________________\n",
            "max_pooling2d_1 (MaxPooling2 (None, 36, 36, 64)        0         \n",
            "_________________________________________________________________\n",
            "conv2d_2 (Conv2D)            (None, 34, 34, 128)       73856     \n",
            "_________________________________________________________________\n",
            "max_pooling2d_2 (MaxPooling2 (None, 17, 17, 128)       0         \n",
            "_________________________________________________________________\n",
            "conv2d_3 (Conv2D)            (None, 15, 15, 256)       295168    \n",
            "_________________________________________________________________\n",
            "max_pooling2d_3 (MaxPooling2 (None, 7, 7, 256)         0         \n",
            "_________________________________________________________________\n",
            "dropout_1 (Dropout)          (None, 7, 7, 256)         0         \n",
            "_________________________________________________________________\n",
            "flatten (Flatten)            (None, 12544)             0         \n",
            "_________________________________________________________________\n",
            "dense (Dense)                (None, 512)               6423040   \n",
            "_________________________________________________________________\n",
            "dense_1 (Dense)              (None, 33)                16929     \n",
            "=================================================================\n",
            "Total params: 6,828,385\n",
            "Trainable params: 6,828,385\n",
            "Non-trainable params: 0\n",
            "_________________________________________________________________\n"
          ],
          "name": "stdout"
        }
      ]
    },
    {
      "cell_type": "code",
      "metadata": {
        "id": "FX8Cf8PWH_b8",
        "colab_type": "code",
        "colab": {
          "base_uri": "https://localhost:8080/",
          "height": 1000
        },
        "outputId": "2e6b09ec-49da-4895-9def-a6fea484fbd2"
      },
      "source": [
        "import tensorflow as tf\n",
        "\n",
        "class myCallback(tf.keras.callbacks.Callback):\n",
        "  def on_epoch_end(self, epoch, logs={}):\n",
        "    if(logs.get('accuracy')>0.92):\n",
        "      print(\"\\nAkurasi telah mencapai >92%!\")\n",
        "      self.model.stop_training = True\n",
        "callbacks = myCallback()\n",
        "\n",
        "history = model.fit(\n",
        "    tr_generator,\n",
        "    steps_per_epoch=35,\n",
        "    epochs=100,\n",
        "    validation_data=va_generator,\n",
        "    validation_steps=5,\n",
        "    verbose=2,\n",
        "    callbacks=[callbacks])"
      ],
      "execution_count": 8,
      "outputs": [
        {
          "output_type": "stream",
          "text": [
            "Epoch 1/100\n",
            "35/35 - 1s - loss: 3.5378 - accuracy: 0.0360 - val_loss: 3.5469 - val_accuracy: 0.1000\n",
            "Epoch 2/100\n",
            "35/35 - 1s - loss: 3.4051 - accuracy: 0.0786 - val_loss: 3.1612 - val_accuracy: 0.2000\n",
            "Epoch 3/100\n",
            "35/35 - 1s - loss: 2.6558 - accuracy: 0.1643 - val_loss: 2.5045 - val_accuracy: 0.3000\n",
            "Epoch 4/100\n",
            "35/35 - 1s - loss: 2.7771 - accuracy: 0.2071 - val_loss: 2.9667 - val_accuracy: 0.0500\n",
            "Epoch 5/100\n",
            "35/35 - 1s - loss: 2.6425 - accuracy: 0.1643 - val_loss: 1.7912 - val_accuracy: 0.4000\n",
            "Epoch 6/100\n",
            "35/35 - 1s - loss: 2.2663 - accuracy: 0.2643 - val_loss: 2.4535 - val_accuracy: 0.3500\n",
            "Epoch 7/100\n",
            "35/35 - 1s - loss: 2.1507 - accuracy: 0.3429 - val_loss: 2.0760 - val_accuracy: 0.3000\n",
            "Epoch 8/100\n",
            "35/35 - 1s - loss: 1.9821 - accuracy: 0.3643 - val_loss: 1.9054 - val_accuracy: 0.5500\n",
            "Epoch 9/100\n",
            "35/35 - 1s - loss: 1.9508 - accuracy: 0.3571 - val_loss: 1.5746 - val_accuracy: 0.4000\n",
            "Epoch 10/100\n",
            "35/35 - 1s - loss: 1.8268 - accuracy: 0.4214 - val_loss: 1.9875 - val_accuracy: 0.4500\n",
            "Epoch 11/100\n",
            "35/35 - 1s - loss: 1.6621 - accuracy: 0.4357 - val_loss: 1.7411 - val_accuracy: 0.4000\n",
            "Epoch 12/100\n",
            "35/35 - 1s - loss: 1.8794 - accuracy: 0.3929 - val_loss: 1.8722 - val_accuracy: 0.4500\n",
            "Epoch 13/100\n",
            "35/35 - 1s - loss: 1.6125 - accuracy: 0.4571 - val_loss: 1.2694 - val_accuracy: 0.6500\n",
            "Epoch 14/100\n",
            "35/35 - 1s - loss: 1.2020 - accuracy: 0.5786 - val_loss: 2.0234 - val_accuracy: 0.3500\n",
            "Epoch 15/100\n",
            "35/35 - 1s - loss: 1.1673 - accuracy: 0.6214 - val_loss: 0.5169 - val_accuracy: 0.9000\n",
            "Epoch 16/100\n",
            "35/35 - 1s - loss: 1.3265 - accuracy: 0.5214 - val_loss: 1.3770 - val_accuracy: 0.5500\n",
            "Epoch 17/100\n",
            "35/35 - 1s - loss: 1.2840 - accuracy: 0.5857 - val_loss: 1.2079 - val_accuracy: 0.5500\n",
            "Epoch 18/100\n",
            "35/35 - 1s - loss: 0.9804 - accuracy: 0.6143 - val_loss: 0.7983 - val_accuracy: 0.8000\n",
            "Epoch 19/100\n",
            "35/35 - 1s - loss: 0.9696 - accuracy: 0.6786 - val_loss: 1.0697 - val_accuracy: 0.7500\n",
            "Epoch 20/100\n",
            "35/35 - 1s - loss: 1.0918 - accuracy: 0.6143 - val_loss: 1.0503 - val_accuracy: 0.6000\n",
            "Epoch 21/100\n",
            "35/35 - 1s - loss: 1.3234 - accuracy: 0.5857 - val_loss: 1.3553 - val_accuracy: 0.6000\n",
            "Epoch 22/100\n",
            "35/35 - 1s - loss: 1.0169 - accuracy: 0.7000 - val_loss: 1.0216 - val_accuracy: 0.7000\n",
            "Epoch 23/100\n",
            "35/35 - 1s - loss: 0.8457 - accuracy: 0.6714 - val_loss: 0.5037 - val_accuracy: 0.8500\n",
            "Epoch 24/100\n",
            "35/35 - 1s - loss: 0.7725 - accuracy: 0.7571 - val_loss: 1.1485 - val_accuracy: 0.6500\n",
            "Epoch 25/100\n",
            "35/35 - 1s - loss: 0.6908 - accuracy: 0.7429 - val_loss: 0.6910 - val_accuracy: 0.7000\n",
            "Epoch 26/100\n",
            "35/35 - 1s - loss: 0.7174 - accuracy: 0.7643 - val_loss: 0.8730 - val_accuracy: 0.6000\n",
            "Epoch 27/100\n",
            "35/35 - 1s - loss: 0.6607 - accuracy: 0.7643 - val_loss: 0.9300 - val_accuracy: 0.5500\n",
            "Epoch 28/100\n",
            "35/35 - 1s - loss: 0.7059 - accuracy: 0.7857 - val_loss: 1.1878 - val_accuracy: 0.7000\n",
            "Epoch 29/100\n",
            "35/35 - 1s - loss: 0.6432 - accuracy: 0.7857 - val_loss: 0.4176 - val_accuracy: 0.9000\n",
            "Epoch 30/100\n",
            "35/35 - 1s - loss: 0.5710 - accuracy: 0.8000 - val_loss: 0.4670 - val_accuracy: 0.8000\n",
            "Epoch 31/100\n",
            "35/35 - 1s - loss: 0.6775 - accuracy: 0.8286 - val_loss: 1.1519 - val_accuracy: 0.7500\n",
            "Epoch 32/100\n",
            "35/35 - 1s - loss: 0.4889 - accuracy: 0.8214 - val_loss: 0.4669 - val_accuracy: 0.8000\n",
            "Epoch 33/100\n",
            "35/35 - 1s - loss: 0.3964 - accuracy: 0.8786 - val_loss: 0.4814 - val_accuracy: 0.9000\n",
            "Epoch 34/100\n",
            "35/35 - 1s - loss: 0.5604 - accuracy: 0.8071 - val_loss: 0.7183 - val_accuracy: 0.7500\n",
            "Epoch 35/100\n",
            "35/35 - 1s - loss: 0.5333 - accuracy: 0.7929 - val_loss: 0.7419 - val_accuracy: 0.6500\n",
            "Epoch 36/100\n",
            "35/35 - 1s - loss: 0.5688 - accuracy: 0.8214 - val_loss: 0.4300 - val_accuracy: 0.8500\n",
            "Epoch 37/100\n",
            "35/35 - 1s - loss: 0.4424 - accuracy: 0.8500 - val_loss: 1.1670 - val_accuracy: 0.7500\n",
            "Epoch 38/100\n",
            "35/35 - 1s - loss: 0.7286 - accuracy: 0.7571 - val_loss: 0.8156 - val_accuracy: 0.8000\n",
            "Epoch 39/100\n",
            "35/35 - 1s - loss: 0.5251 - accuracy: 0.8214 - val_loss: 0.6253 - val_accuracy: 0.8500\n",
            "Epoch 40/100\n",
            "35/35 - 1s - loss: 0.3601 - accuracy: 0.8929 - val_loss: 0.5208 - val_accuracy: 0.8500\n",
            "Epoch 41/100\n",
            "35/35 - 1s - loss: 0.3431 - accuracy: 0.8786 - val_loss: 0.4504 - val_accuracy: 0.8000\n",
            "Epoch 42/100\n",
            "35/35 - 1s - loss: 0.4146 - accuracy: 0.8643 - val_loss: 0.7585 - val_accuracy: 0.7000\n",
            "Epoch 43/100\n",
            "35/35 - 1s - loss: 0.2928 - accuracy: 0.8643 - val_loss: 0.5570 - val_accuracy: 0.8000\n",
            "Epoch 44/100\n",
            "35/35 - 1s - loss: 0.5199 - accuracy: 0.8000 - val_loss: 0.2033 - val_accuracy: 1.0000\n",
            "Epoch 45/100\n",
            "35/35 - 1s - loss: 0.3979 - accuracy: 0.8643 - val_loss: 0.8486 - val_accuracy: 0.6500\n",
            "Epoch 46/100\n",
            "35/35 - 1s - loss: 0.4721 - accuracy: 0.8571 - val_loss: 0.5404 - val_accuracy: 0.8500\n",
            "Epoch 47/100\n",
            "35/35 - 1s - loss: 0.3053 - accuracy: 0.9071 - val_loss: 0.2106 - val_accuracy: 0.9500\n",
            "Epoch 48/100\n",
            "35/35 - 1s - loss: 0.2638 - accuracy: 0.9143 - val_loss: 0.6110 - val_accuracy: 0.7500\n",
            "Epoch 49/100\n",
            "35/35 - 1s - loss: 0.3022 - accuracy: 0.9000 - val_loss: 0.4609 - val_accuracy: 0.8500\n",
            "Epoch 50/100\n",
            "35/35 - 1s - loss: 0.2847 - accuracy: 0.8929 - val_loss: 0.5731 - val_accuracy: 0.8500\n",
            "Epoch 51/100\n",
            "35/35 - 1s - loss: 0.5540 - accuracy: 0.8357 - val_loss: 0.8340 - val_accuracy: 0.7000\n",
            "Epoch 52/100\n",
            "35/35 - 1s - loss: 0.4365 - accuracy: 0.8786 - val_loss: 0.3728 - val_accuracy: 0.8500\n",
            "Epoch 53/100\n",
            "35/35 - 1s - loss: 0.2575 - accuracy: 0.9143 - val_loss: 0.1048 - val_accuracy: 0.9500\n",
            "Epoch 54/100\n",
            "35/35 - 1s - loss: 0.3754 - accuracy: 0.8929 - val_loss: 0.3822 - val_accuracy: 0.8500\n",
            "Epoch 55/100\n",
            "\n",
            "Akurasi telah mencapai >92%!\n",
            "35/35 - 1s - loss: 0.2522 - accuracy: 0.9286 - val_loss: 0.1560 - val_accuracy: 0.9500\n"
          ],
          "name": "stdout"
        }
      ]
    },
    {
      "cell_type": "code",
      "metadata": {
        "id": "AXtrfvq8YGS_",
        "colab_type": "code",
        "colab": {
          "base_uri": "https://localhost:8080/",
          "height": 295
        },
        "outputId": "69d01e2b-b47d-4f5b-e188-d50c572ff5a1"
      },
      "source": [
        "# liat grafik akurasi\n",
        "import matplotlib.pyplot as plt\n",
        "plt.plot(history.history['accuracy'], label='Training Accuracy')\n",
        "plt.plot(history.history['val_accuracy'], label='Validasion Accuracy')\n",
        "plt.title('Model accuracy')\n",
        "plt.ylabel('accuracy')\n",
        "plt.xlabel('Epoch')\n",
        "plt.legend(loc='lower right')\n",
        "plt.show()"
      ],
      "execution_count": 9,
      "outputs": [
        {
          "output_type": "display_data",
          "data": {
            "image/png": "[encoded data removed]",
            "text/plain": [
              "<Figure size 432x288 with 1 Axes>"
            ]
          },
          "metadata": {
            "tags": [],
            "needs_background": "light"
          }
        }
      ]
    },
    {
      "cell_type": "code",
      "metadata": {
        "id": "SEWRDavHZFjP",
        "colab_type": "code",
        "colab": {
          "base_uri": "https://localhost:8080/",
          "height": 34
        },
        "outputId": "b8046672-abbe-4aa8-9646-e7ec7b9dc054"
      },
      "source": [
        "#liat versi tf\n",
        "print(tf.__version__)"
      ],
      "execution_count": 10,
      "outputs": [
        {
          "output_type": "stream",
          "text": [
            "2.3.0\n"
          ],
          "name": "stdout"
        }
      ]
    },
    {
      "cell_type": "code",
      "metadata": {
        "id": "MLUszkQ4ch3j",
        "colab_type": "code",
        "colab": {
          "base_uri": "https://localhost:8080/",
          "height": 156
        },
        "outputId": "7c7a2b6b-f374-4511-9b8b-72f73924466e"
      },
      "source": [
        "model.save('/content/savemodel', include_optimizer=True)"
      ],
      "execution_count": 11,
      "outputs": [
        {
          "output_type": "stream",
          "text": [
            "WARNING:tensorflow:From /usr/local/lib/python3.6/dist-packages/tensorflow/python/training/tracking/tracking.py:111: Model.state_updates (from tensorflow.python.keras.engine.training) is deprecated and will be removed in a future version.\n",
            "Instructions for updating:\n",
            "This property should not be used in TensorFlow 2.0, as updates are applied automatically.\n",
            "WARNING:tensorflow:From /usr/local/lib/python3.6/dist-packages/tensorflow/python/training/tracking/tracking.py:111: Layer.updates (from tensorflow.python.keras.engine.base_layer) is deprecated and will be removed in a future version.\n",
            "Instructions for updating:\n",
            "This property should not be used in TensorFlow 2.0, as updates are applied automatically.\n",
            "INFO:tensorflow:Assets written to: /content/savemodel/assets\n"
          ],
          "name": "stdout"
        }
      ]
    },
    {
      "cell_type": "code",
      "metadata": {
        "id": "jg_PusjuepAC",
        "colab_type": "code",
        "colab": {}
      },
      "source": [
        "# Convert the model\n",
        "saved_model_dir = '/content/savemodel'\n",
        "converter = tf.lite.TFLiteConverter.from_saved_model(saved_model_dir) # path to the SavedModel directory\n",
        "tflite_model = converter.convert()\n",
        "\n",
        "# Save the model.\n",
        "with open('model.tflite', 'wb') as f:\n",
        "  f.write(tflite_model)"
      ],
      "execution_count": 12,
      "outputs": []
    }
  ]
}